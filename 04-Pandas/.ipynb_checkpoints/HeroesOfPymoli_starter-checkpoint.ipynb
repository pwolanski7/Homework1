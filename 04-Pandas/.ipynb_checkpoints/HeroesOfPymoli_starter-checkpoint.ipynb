{
 "cells": [
  {
   "cell_type": "markdown",
   "metadata": {},
   "source": [
    "### Heroes Of Pymoli Data Analysis\n",
    "* Of the 1163 active players, the vast majority are male (84%). There also exists, a smaller, but notable proportion of female players (14%).\n",
    "\n",
    "* Our peak age demographic falls between 20-24 (44.8%) with secondary groups falling between 15-19 (18.60%) and 25-29 (13.4%).  \n",
    "-----"
   ]
  },
  {
   "cell_type": "markdown",
   "metadata": {},
   "source": [
    "### Note\n",
    "* Instructions have been included for each segment. You do not have to follow them exactly, but they are included to help you think through the steps."
   ]
  },
  {
   "cell_type": "code",
   "execution_count": null,
   "metadata": {},
   "outputs": [],
   "source": [
    "# Dependencies and Setup\n",
    "import pandas as pd\n",
    "import numpy as np\n",
    "\n",
    "# File to Load (Remember to Change These)\n",
    "file_to_load = \"Resources/purchase_data.csv\"\n",
    "\n",
    "# Read Purchasing File and store into Pandas data frame\n",
    "purchase_data = pd.read_csv(file_to_load)\n",
    "purchase_data.head()"
   ]
  },
  {
   "cell_type": "markdown",
   "metadata": {},
   "source": [
    "## Player Count"
   ]
  },
  {
   "cell_type": "markdown",
   "metadata": {},
   "source": [
    "* Display the total number of players\n"
   ]
  },
  {
   "cell_type": "code",
   "execution_count": null,
   "metadata": {},
   "outputs": [],
   "source": [
    "#Create and assign list of unique Heroes\n",
    "player_count = purchase_data.groupby(['SN']).size().reset_index(name='count')"
   ]
  },
  {
   "cell_type": "code",
   "execution_count": null,
   "metadata": {},
   "outputs": [],
   "source": [
    "#Assign total count of Heroes\n",
    "total_players = len(player_count)"
   ]
  },
  {
   "cell_type": "code",
   "execution_count": null,
   "metadata": {},
   "outputs": [],
   "source": [
    "#Add the total to a Dataframe\n",
    "player_df = pd.DataFrame({'Total Players': [total_players]})"
   ]
  },
  {
   "cell_type": "code",
   "execution_count": null,
   "metadata": {},
   "outputs": [],
   "source": [
    "#Display Dataframe\n",
    "show = player_df.set_index('Total Players')\n",
    "show"
   ]
  },
  {
   "cell_type": "markdown",
   "metadata": {},
   "source": [
    "## Purchasing Analysis (Total)"
   ]
  },
  {
   "cell_type": "markdown",
   "metadata": {},
   "source": [
    "* Run basic calculations to obtain number of unique items, average price, etc.\n",
    "\n",
    "\n",
    "* Create a summary data frame to hold the results\n",
    "\n",
    "\n",
    "* Optional: give the displayed data cleaner formatting\n",
    "\n",
    "\n",
    "* Display the summary data frame\n"
   ]
  },
  {
   "cell_type": "code",
   "execution_count": null,
   "metadata": {
    "scrolled": true
   },
   "outputs": [],
   "source": [
    "#Create and Assign list of unique items and prices\n",
    "unique_items = purchase_data.groupby(['Item Name','Price']).size().reset_index(name='Total Purchases')"
   ]
  },
  {
   "cell_type": "code",
   "execution_count": null,
   "metadata": {},
   "outputs": [],
   "source": [
    "#Assign total number of items\n",
    "total_items = len(unique_items['Item Name'])"
   ]
  },
  {
   "cell_type": "code",
   "execution_count": null,
   "metadata": {},
   "outputs": [],
   "source": [
    "#Assign the average price for all unique items\n",
    "average_price = round(np.mean(unique_items['Price']),2)"
   ]
  },
  {
   "cell_type": "code",
   "execution_count": null,
   "metadata": {},
   "outputs": [],
   "source": [
    "#Assign the total amount of purches\n",
    "total_purchases = len(purchase_data)"
   ]
  },
  {
   "cell_type": "code",
   "execution_count": null,
   "metadata": {},
   "outputs": [],
   "source": [
    "#Aggregate and assign the sum of the items sold\n",
    "total_rev = np.sum(purchase_data['Price'])"
   ]
  },
  {
   "cell_type": "code",
   "execution_count": null,
   "metadata": {},
   "outputs": [],
   "source": [
    "#Create dataframe and assign variables\n",
    "summary_frame = pd.DataFrame({\n",
    "                    'Total Players': [total_players],'Total Items': [total_items],\n",
    "                    'Average Price': [str('$')+str(average_price)],'Total Purchases': [total_purchases],\n",
    "                    'Total Revenue': [str('$')+str(total_rev)]\n",
    "                            })\n",
    "#Display Dataframe\n",
    "summary_frame"
   ]
  },
  {
   "cell_type": "markdown",
   "metadata": {},
   "source": [
    "## Gender Demographics"
   ]
  },
  {
   "cell_type": "markdown",
   "metadata": {},
   "source": [
    "* Percentage and Count of Male Players\n",
    "\n",
    "\n",
    "* Percentage and Count of Female Players\n",
    "\n",
    "\n",
    "* Percentage and Count of Other / Non-Disclosed\n",
    "\n",
    "\n"
   ]
  },
  {
   "cell_type": "code",
   "execution_count": null,
   "metadata": {},
   "outputs": [],
   "source": [
    "#Create grouped dataframe on Gender\n",
    "group_gender = purchase_data.groupby(['Gender']).size().reset_index(name='Count of Gender')"
   ]
  },
  {
   "cell_type": "code",
   "execution_count": null,
   "metadata": {},
   "outputs": [],
   "source": [
    "#Create index of table to Gender\n",
    "index = group_gender.set_index('Gender')"
   ]
  },
  {
   "cell_type": "code",
   "execution_count": null,
   "metadata": {},
   "outputs": [],
   "source": [
    "#Assign Totals for each gender to a variable\n",
    "count_m = index.loc['Male','Count of Gender']\n",
    "count_f = index.loc['Female','Count of Gender']\n",
    "count_o = index.loc['Other / Non-Disclosed', 'Count of Gender']"
   ]
  },
  {
   "cell_type": "code",
   "execution_count": null,
   "metadata": {},
   "outputs": [],
   "source": [
    "#Calculate the total and percentages of each gender\n",
    "total_gender = int(count_m)+int(count_f)+int(count_o)\n",
    "percent_m = str(round((int(count_m)/total_gender)*100,2))+str('%')\n",
    "percent_f = str(round((int(count_f)/total_gender)*100,2))+str('%')\n",
    "percent_o = str(round((int(count_o)/total_gender)*100,2))+str('%')"
   ]
  },
  {
   "cell_type": "code",
   "execution_count": null,
   "metadata": {},
   "outputs": [],
   "source": [
    "#Create a dataframe of the percentages\n",
    "percent_df = pd.DataFrame({'Percent of Gender':[percent_f,percent_m,percent_o]})"
   ]
  },
  {
   "cell_type": "code",
   "execution_count": null,
   "metadata": {},
   "outputs": [],
   "source": [
    "#Add the dataframe to grouped by data\n",
    "group_gender['Percent of Gender'] = percent_df\n",
    "#print final \n",
    "group_gender"
   ]
  },
  {
   "cell_type": "markdown",
   "metadata": {},
   "source": [
    "\n",
    "## Purchasing Analysis (Gender)"
   ]
  },
  {
   "cell_type": "markdown",
   "metadata": {},
   "source": [
    "* Run basic calculations to obtain purchase count, avg. purchase price, avg. purchase total per person etc. by gender\n",
    "\n",
    "\n",
    "\n",
    "\n",
    "* Create a summary data frame to hold the results\n",
    "\n",
    "\n",
    "* Optional: give the displayed data cleaner formatting\n",
    "\n",
    "\n",
    "* Display the summary data frame"
   ]
  },
  {
   "cell_type": "code",
   "execution_count": null,
   "metadata": {},
   "outputs": [],
   "source": [
    "#set index\n",
    "gender_purchase = purchase_data.set_index('Gender')"
   ]
  },
  {
   "cell_type": "code",
   "execution_count": null,
   "metadata": {},
   "outputs": [],
   "source": [
    "#Total Value Assignment and calculation\n",
    "total_male_price = str('$')+str(np.sum(gender_purchase.loc['Male','Price']))\n",
    "total_female_price = str('$')+str(np.sum(gender_purchase.loc['Female','Price']))\n",
    "total_other = str('$')+str(np.sum(gender_purchase.loc['Other / Non-Disclosed','Price']))"
   ]
  },
  {
   "cell_type": "code",
   "execution_count": null,
   "metadata": {},
   "outputs": [],
   "source": [
    "#Overall Average Assignment and Calculation\n",
    "avg_male_price = str('$')+str(round(np.mean(gender_purchase.loc['Male','Price']),3))\n",
    "avg_female_price = str('$')+str(round(np.mean(gender_purchase.loc['Female','Price']),3))\n",
    "avg_other = str('$')+str(round(np.mean(gender_purchase.loc['Other / Non-Disclosed','Price']),3))"
   ]
  },
  {
   "cell_type": "code",
   "execution_count": null,
   "metadata": {},
   "outputs": [],
   "source": [
    "#average by person, by gender variable assignment and calculation\n",
    "total_by_person =  purchase_data.groupby(['SN']).sum()\n",
    "total_bp = total_by_person.drop(columns=['Purchase ID','Age','Item ID'])\n",
    "gendersn = purchase_data[['SN','Gender']]\n",
    "merge_table = pd.merge(gendersn, total_bp, on=\"SN\")\n",
    "fix_merge = merge_table.groupby(['SN','Price','Gender']).size().reset_index(name='SN Count')\n",
    "fix_table = fix_merge.drop(columns=['SN Count'])"
   ]
  },
  {
   "cell_type": "code",
   "execution_count": null,
   "metadata": {},
   "outputs": [],
   "source": [
    "#Aggregate Data\n",
    "by_gender_final = fix_table.set_index('Gender')\n",
    "ttl_avg_male_price = str('$')+str(round(np.mean(by_gender_final.loc['Male','Price']),2))\n",
    "ttl_avg_female_price = str('$')+str(round(np.mean(by_gender_final.loc['Female','Price']),2))\n",
    "ttl_avg_other = str('$')+str(round(np.mean(by_gender_final.loc['Other / Non-Disclosed','Price']),2))"
   ]
  },
  {
   "cell_type": "code",
   "execution_count": null,
   "metadata": {},
   "outputs": [],
   "source": [
    "#create totals dataframe\n",
    "purchase_g_df = pd.DataFrame({'Total Prices by Gender': [total_female_price,total_male_price,total_other]})\n",
    "#create averages dataframe\n",
    "purchase_e_df = pd.DataFrame({'Average Prices by Gender': [avg_female_price,avg_male_price,avg_other]})\n",
    "#Create total average by person DataFrame\n",
    "ttl_avg = pd.DataFrame({'Average by Person':[ttl_avg_female_price,ttl_avg_male_price,ttl_avg_other]})"
   ]
  },
  {
   "cell_type": "code",
   "execution_count": null,
   "metadata": {},
   "outputs": [],
   "source": [
    "#add dataframes to gender index\n",
    "group_gender['Total Value'] = purchase_g_df\n",
    "group_gender['Average Price'] = purchase_e_df\n",
    "group_gender['Average Price by Person'] = ttl_avg"
   ]
  },
  {
   "cell_type": "code",
   "execution_count": null,
   "metadata": {},
   "outputs": [],
   "source": [
    "#modify dataframe columns for display\n",
    "group_gender_final = group_gender[['Gender','Count of Gender','Average Price','Total Value','Average Price by Person']]\n",
    "group_gender_final.columns = ['Gender','Total Purchases', 'Average Price Overall', 'Total Value','Average Price by Person']\n",
    "\n",
    "#print dataframe\n",
    "group_gender_final"
   ]
  },
  {
   "cell_type": "markdown",
   "metadata": {},
   "source": [
    "## Age Demographics"
   ]
  },
  {
   "cell_type": "markdown",
   "metadata": {},
   "source": [
    "* Establish bins for ages\n",
    "\n",
    "\n",
    "* Categorize the existing players using the age bins. Hint: use pd.cut()\n",
    "\n",
    "\n",
    "* Calculate the numbers and percentages by age group\n",
    "\n",
    "\n",
    "* Create a summary data frame to hold the results\n",
    "\n",
    "\n",
    "* Optional: round the percentage column to two decimal points\n",
    "\n",
    "\n",
    "* Display Age Demographics Table\n"
   ]
  },
  {
   "cell_type": "code",
   "execution_count": null,
   "metadata": {},
   "outputs": [],
   "source": [
    "#binning, labeling and cutting\n",
    "bins = [10,14,19,24,29,34,39,44,49]\n",
    "group_names = ['10-14', '15-19', '20-24', '25-29', '30-34','35-39','40-44','45-49']\n",
    "purchase_data['Age Range']=pd.cut(purchase_data[\"Age\"], [10,14,19,24,29,34,39,44,49], labels=group_names)"
   ]
  },
  {
   "cell_type": "code",
   "execution_count": null,
   "metadata": {},
   "outputs": [],
   "source": [
    "#Group Data, Set Total Purchases\n",
    "PrDf = purchase_data.groupby(['Age Range']).size().reset_index(name='Total Purchases')\n",
    "#Create index of table to Gender\n",
    "index2 = PrDf.set_index('Age Range')\n",
    "#Assign Totals for each gender to a variable\n",
    "count_1014 = index2.loc['10-14','Total Purchases']\n",
    "count_1519 = index2.loc['15-19','Total Purchases']\n",
    "count_2024 = index2.loc['20-24','Total Purchases']\n",
    "count_2529 = index2.loc['25-29','Total Purchases']\n",
    "count_3034 = index2.loc['30-34','Total Purchases']\n",
    "count_3539 = index2.loc['35-39','Total Purchases']\n",
    "count_4044 = index2.loc['40-44','Total Purchases']\n",
    "count_4549 = index2.loc['45-49','Total Purchases']"
   ]
  },
  {
   "cell_type": "code",
   "execution_count": null,
   "metadata": {},
   "outputs": [],
   "source": [
    "#Calculate the total and percentages of each gender\n",
    "total_pur = count_1014+count_1519+count_2024+count_3034+count_3539+count_4044+count_4549\n",
    "percent_1014 = str(round((float(count_1014)/total_pur)*100,2))+str('%')\n",
    "percent_1519 = str(round((float(count_1519)/total_pur)*100,2))+str('%')\n",
    "percent_2024 = str(round((float(count_2024)/total_pur)*100,2))+str('%')\n",
    "percent_2529 = str(round((float(count_2529)/total_pur)*100,2))+str('%')\n",
    "percent_3034 = str(round((float(count_3034)/total_pur)*100,2))+str('%')\n",
    "percent_3539 = str(round((float(count_3539)/total_pur)*100,2))+str('%')\n",
    "percent_4044 = str(round((float(count_4044)/total_pur)*100,2))+str('%')\n",
    "percent_4549 = str(round((float(count_4549)/total_pur)*100,2))+str('%')\n",
    "\n",
    "ttl_age = pd.DataFrame({'Precent of Age':[percent_1014,percent_1519,percent_2024,percent_2529,\n",
    "                                                   percent_3034,percent_3539,percent_4044,percent_4549]})\n",
    "\n",
    "PrDf['Percent of Total Age Range'] = ttl_age\n",
    "PrDf"
   ]
  },
  {
   "cell_type": "markdown",
   "metadata": {},
   "source": [
    "## Purchasing Analysis (Age)"
   ]
  },
  {
   "cell_type": "markdown",
   "metadata": {},
   "source": [
    "* Bin the purchase_data data frame by age\n",
    "\n",
    "\n",
    "* Run basic calculations to obtain purchase count, avg. purchase price, avg. purchase total per person etc. in the table below\n",
    "\n",
    "\n",
    "* Create a summary data frame to hold the results\n",
    "\n",
    "\n",
    "* Optional: give the displayed data cleaner formatting\n",
    "\n",
    "\n",
    "* Display the summary data frame"
   ]
  },
  {
   "cell_type": "code",
   "execution_count": null,
   "metadata": {},
   "outputs": [],
   "source": [
    "#binning, labeling and cutting\n",
    "bins2 = [10,14,19,24,29,34,39,44,49]\n",
    "group_names2 = ['10-14', '15-19', '20-24', '25-29', '30-34','35-39','40-44','45-49']\n",
    "purchase_data['Age Range']=pd.cut(purchase_data[\"Age\"], [10,14,19,24,29,34,39,44,49], labels=group_names)"
   ]
  },
  {
   "cell_type": "code",
   "execution_count": null,
   "metadata": {},
   "outputs": [],
   "source": [
    "#averages calc\n",
    "age_purchase_grp = purchase_data.groupby(['Age Range']).size().reset_index(name='Total Purchases')\n",
    "age_avgtotal = purchase_data.set_index(['Age Range'])\n",
    "age_fix0 = str('$')+str(round(np.mean(age_avgtotal.loc['10-14','Price']),2))\n",
    "age_fix1 = str('$')+str(round(np.mean(age_avgtotal.loc['15-19','Price']),2))\n",
    "age_fix2 = str('$')+str(round(np.mean(age_avgtotal.loc['20-24','Price']),2))\n",
    "age_fix3 = str('$')+str(round(np.mean(age_avgtotal.loc['25-29','Price']),2))\n",
    "age_fix4 = str('$')+str(round(np.mean(age_avgtotal.loc['30-34','Price']),2))\n",
    "age_fix5 = str('$')+str(round(np.mean(age_avgtotal.loc['35-39','Price']),2))\n",
    "age_fix6 = str('$')+str(round(np.mean(age_avgtotal.loc['40-44','Price']),2))\n",
    "age_fix7 = str('$')+str(round((age_avgtotal.loc['45-49','Price']),2))"
   ]
  },
  {
   "cell_type": "code",
   "execution_count": null,
   "metadata": {},
   "outputs": [],
   "source": [
    "#totals calc\n",
    "age_ttl0 = str('$')+str(round(np.sum(age_avgtotal.loc['10-14','Price']),2))\n",
    "age_ttl1 = str('$')+str(round(np.sum(age_avgtotal.loc['15-19','Price']),2))\n",
    "age_ttl2 = str('$')+str(round(np.sum(age_avgtotal.loc['20-24','Price']),2))\n",
    "age_ttl3 = str('$')+str(round(np.sum(age_avgtotal.loc['25-29','Price']),2))\n",
    "age_ttl4 = str('$')+str(round(np.sum(age_avgtotal.loc['30-34','Price']),2))\n",
    "age_ttl5 = str('$')+str(round(np.sum(age_avgtotal.loc['35-39','Price']),2))\n",
    "age_ttl6 = str('$')+str(round(np.sum(age_avgtotal.loc['40-44','Price']),2))\n",
    "age_ttl7 = str('$')+str(round((age_avgtotal.loc['45-49','Price']),2))"
   ]
  },
  {
   "cell_type": "code",
   "execution_count": null,
   "metadata": {},
   "outputs": [],
   "source": [
    "#average by person, by age range variable assignment and calculation\n",
    "#remember these from above----total_by_person =  purchase_data.groupby(['SN']).sum()\n",
    "#remember these from above----total_bp = total_by_person.drop(columns=['Purchase ID','Age','Item ID'])\n",
    "gendersn2 = purchase_data[['SN','Age Range']]\n",
    "merge_table2 = pd.merge(gendersn2, total_bp, on=\"SN\")\n",
    "fix_merge2 = merge_table2.groupby(['SN','Price','Age Range']).size().reset_index(name='SN Count')\n",
    "fix_table2 = fix_merge2.drop(columns=['SN Count'])\n",
    "done = fix_table2.set_index('Age Range')\n",
    "age_0 = str('$')+str(round(np.mean(done.loc['10-14','Price']),2))\n",
    "age_1 = str('$')+str(round(np.mean(done.loc['15-19','Price']),2))\n",
    "age_2 = str('$')+str(round(np.mean(done.loc['20-24','Price']),2))\n",
    "age_3 = str('$')+str(round(np.mean(done.loc['25-29','Price']),2))\n",
    "age_4 = str('$')+str(round(np.mean(done.loc['30-34','Price']),2))\n",
    "age_5 = str('$')+str(round(np.mean(done.loc['35-39','Price']),2))\n",
    "age_6 = str('$')+str(round(np.mean(done.loc['40-44','Price']),2))\n",
    "age_7 = str('$')+str(round((done.loc['45-49','Price']),2))"
   ]
  },
  {
   "cell_type": "code",
   "execution_count": null,
   "metadata": {},
   "outputs": [],
   "source": [
    "#creating staging dataframes\n",
    "age_oap_df = pd.DataFrame({'Overall Average Price': [age_fix0,age_fix1,age_fix2,age_fix3,age_fix4,age_fix5,age_fix6,age_fix7]})\n",
    "age_totalvalue_df = pd.DataFrame({'Total Value':[age_ttl0,age_ttl1,age_ttl2,age_ttl3,age_ttl4,age_ttl5,age_ttl6,age_ttl7]})\n",
    "age_aap_df = pd.DataFrame({'Average Price per Person': [age_0,age_1,age_2,age_3,age_4,age_5,age_6,age_7]})"
   ]
  },
  {
   "cell_type": "code",
   "execution_count": null,
   "metadata": {},
   "outputs": [],
   "source": [
    "#adding columns to final dataframe\n",
    "age_purchase_grp['Overall Average Price'] = age_oap_df\n",
    "age_purchase_grp['Total Value']=age_totalvalue_df\n",
    "age_purchase_grp['Average Price per Person']=age_aap_df"
   ]
  },
  {
   "cell_type": "code",
   "execution_count": null,
   "metadata": {},
   "outputs": [],
   "source": [
    "#print dataframe\n",
    "age_purchase_grp"
   ]
  },
  {
   "cell_type": "markdown",
   "metadata": {},
   "source": [
    "## Top Spenders"
   ]
  },
  {
   "cell_type": "markdown",
   "metadata": {},
   "source": [
    "* Run basic calculations to obtain the results in the table below\n",
    "\n",
    "\n",
    "* Create a summary data frame to hold the results\n",
    "\n",
    "\n",
    "* Sort the total purchase value column in descending order\n",
    "\n",
    "\n",
    "* Optional: give the displayed data cleaner formatting\n",
    "\n",
    "\n",
    "* Display a preview of the summary data frame\n",
    "\n"
   ]
  },
  {
   "cell_type": "code",
   "execution_count": null,
   "metadata": {},
   "outputs": [],
   "source": [
    "PrDf2 = purchase_data.groupby(['SN']).size().reset_index(name='Total Purchases')\n",
    "sort_count = PrDf2.sort_values(by='Total Purchases', ascending=False).reset_index()\n",
    "org_sortcount = sort_count.drop(columns=['index'])\n",
    "top5 = org_sortcount.head()\n",
    "PrDf2 = top5.set_index('SN')\n",
    "\n",
    "num1 = total_bp.loc['Lisosia93','Price']\n",
    "num2 = total_bp.loc['Iral74','Price']\n",
    "num3 = total_bp.loc['Idastidru52','Price']\n",
    "num4 = total_bp.loc['Asur53','Price']\n",
    "num5 = total_bp.loc['Inguron55','Price']\n",
    "\n",
    "num6 = PrDf2.loc['Lisosia93','Total Purchases']\n",
    "num7 = PrDf2.loc['Iral74','Total Purchases']\n",
    "num8 = PrDf2.loc['Idastidru52','Total Purchases']\n",
    "num9 = PrDf2.loc['Asur53','Total Purchases']\n",
    "num10 = PrDf2.loc['Inguron55','Total Purchases']\n",
    "\n",
    "num11=str('$')+str(round(num1/num6,2))\n",
    "num12=str('$')+str(round(num2/num7,2))\n",
    "num13=str('$')+str(round(num3/num8,2))\n",
    "num14=str('$')+str(round(num4/num9,2))\n",
    "num15=str('$')+str(round(num5/num10,2))\n",
    "\n",
    "\n",
    "num_df0=top5\n",
    "num_df = pd.DataFrame({'Average Purchase Price':[num11,(num12),num13,num14,num15]})\n",
    "num_df2 = pd.DataFrame({'Total Purchase Value':[str('$')+str(round(num1,2)),str('$')+str(round(num2,2)),\n",
    "                                                str('$')+str(round(num3,2)),str('$')+str(round(num4,2)),\n",
    "                                                str('$')+str(round(num5,2))]})\n",
    "\n",
    "num_df0['All Purchases Average']=num_df\n",
    "num_df0['Total Purchase Value']=num_df2\n",
    "num_df0"
   ]
  },
  {
   "cell_type": "markdown",
   "metadata": {},
   "source": [
    "## Most Popular Items"
   ]
  },
  {
   "cell_type": "markdown",
   "metadata": {},
   "source": [
    "* Retrieve the Item ID, Item Name, and Item Price columns\n",
    "\n",
    "\n",
    "* Group by Item ID and Item Name. Perform calculations to obtain purchase count, item price, and total purchase value\n",
    "\n",
    "\n",
    "* Create a summary data frame to hold the results\n",
    "\n",
    "\n",
    "* Sort the purchase count column in descending order\n",
    "\n",
    "\n",
    "* Optional: give the displayed data cleaner formatting\n",
    "\n",
    "\n",
    "* Display a preview of the summary data frame\n",
    "\n"
   ]
  },
  {
   "cell_type": "code",
   "execution_count": null,
   "metadata": {},
   "outputs": [],
   "source": [
    "super_items = purchase_data[['Item ID','Item Name','Price']]\n",
    "group_items = super_items.groupby(['Item ID','Item Name','Price']).size().reset_index(name='Total Purchases')\n",
    "sorted_items = group_items.sort_values(by='Total Purchases',ascending=False).reset_index()\n",
    "sorted_items = sorted_items.drop(columns=['index'])\n",
    "prr = sorted_items[['Price']]\n",
    "tpv1 = sorted_items[['Total Purchases']]\n",
    "tpv2 = round(prr.iloc[0,0]*tpv1.iloc[0,0],2)\n",
    "tpv3 = round(prr.iloc[1,0]*tpv1.iloc[1,0],2)\n",
    "tpv4 = round(prr.iloc[2,0]*tpv1.iloc[2,0],2)\n",
    "tpv5 = round(prr.iloc[3,0]*tpv1.iloc[3,0],2)\n",
    "tpv6 = round(prr.iloc[4,0]*tpv1.iloc[4,0],2)\n",
    "\n",
    "tpv_df = pd.DataFrame({'Total Value':[tpv2,tpv3,tpv4,tpv5,tpv6]})\n",
    "sorted_items['Total Purchase Value'] = tpv_df\n",
    "sorted_items.head()"
   ]
  },
  {
   "cell_type": "markdown",
   "metadata": {},
   "source": [
    "## Most Profitable Items"
   ]
  },
  {
   "cell_type": "markdown",
   "metadata": {},
   "source": [
    "* Sort the above table by total purchase value in descending order\n",
    "\n",
    "\n",
    "* Optional: give the displayed data cleaner formatting\n",
    "\n",
    "\n",
    "* Display a preview of the data frame\n",
    "\n"
   ]
  },
  {
   "cell_type": "code",
   "execution_count": null,
   "metadata": {
    "scrolled": true
   },
   "outputs": [],
   "source": [
    "sorted_items=sorted_items.sort_values(by='Total Purchase Value',ascending=False).reset_index()\n",
    "sorted_items = sorted_items.drop(columns=['index'])\n",
    "sorted_items.head()"
   ]
  }
 ],
 "metadata": {
  "anaconda-cloud": {},
  "kernel_info": {
   "name": "python3"
  },
  "kernelspec": {
   "display_name": "Python 3",
   "language": "python",
   "name": "python3"
  },
  "language_info": {
   "codemirror_mode": {
    "name": "ipython",
    "version": 3
   },
   "file_extension": ".py",
   "mimetype": "text/x-python",
   "name": "python",
   "nbconvert_exporter": "python",
   "pygments_lexer": "ipython3",
   "version": "3.7.3"
  },
  "latex_envs": {
   "LaTeX_envs_menu_present": true,
   "autoclose": false,
   "autocomplete": true,
   "bibliofile": "biblio.bib",
   "cite_by": "apalike",
   "current_citInitial": 1,
   "eqLabelWithNumbers": true,
   "eqNumInitial": 1,
   "hotkeys": {
    "equation": "Ctrl-E",
    "itemize": "Ctrl-I"
   },
   "labels_anchors": false,
   "latex_user_defs": false,
   "report_style_numbering": false,
   "user_envs_cfg": false
  },
  "nteract": {
   "version": "0.2.0"
  }
 },
 "nbformat": 4,
 "nbformat_minor": 2
}
