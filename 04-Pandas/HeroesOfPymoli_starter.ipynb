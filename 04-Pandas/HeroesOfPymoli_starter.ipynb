{
 "cells": [
  {
   "cell_type": "markdown",
   "metadata": {},
   "source": [
    "### Heroes Of Pymoli Data Analysis\n",
    "* Of the 1163 active players, the vast majority are male (84%). There also exists, a smaller, but notable proportion of female players (14%).\n",
    "\n",
    "* Our peak age demographic falls between 20-24 (44.8%) with secondary groups falling between 15-19 (18.60%) and 25-29 (13.4%).  \n",
    "-----"
   ]
  },
  {
   "cell_type": "markdown",
   "metadata": {},
   "source": [
    "### Note\n",
    "* Instructions have been included for each segment. You do not have to follow them exactly, but they are included to help you think through the steps."
   ]
  },
  {
   "cell_type": "code",
   "execution_count": 9,
   "metadata": {},
   "outputs": [
    {
     "data": {
      "text/html": [
       "<div>\n",
       "<style scoped>\n",
       "    .dataframe tbody tr th:only-of-type {\n",
       "        vertical-align: middle;\n",
       "    }\n",
       "\n",
       "    .dataframe tbody tr th {\n",
       "        vertical-align: top;\n",
       "    }\n",
       "\n",
       "    .dataframe thead th {\n",
       "        text-align: right;\n",
       "    }\n",
       "</style>\n",
       "<table border=\"1\" class=\"dataframe\">\n",
       "  <thead>\n",
       "    <tr style=\"text-align: right;\">\n",
       "      <th></th>\n",
       "      <th>Purchase ID</th>\n",
       "      <th>SN</th>\n",
       "      <th>Age</th>\n",
       "      <th>Gender</th>\n",
       "      <th>Item ID</th>\n",
       "      <th>Item Name</th>\n",
       "      <th>Price</th>\n",
       "    </tr>\n",
       "  </thead>\n",
       "  <tbody>\n",
       "    <tr>\n",
       "      <th>0</th>\n",
       "      <td>0</td>\n",
       "      <td>Lisim78</td>\n",
       "      <td>20</td>\n",
       "      <td>Male</td>\n",
       "      <td>108</td>\n",
       "      <td>Extraction, Quickblade Of Trembling Hands</td>\n",
       "      <td>3.53</td>\n",
       "    </tr>\n",
       "    <tr>\n",
       "      <th>1</th>\n",
       "      <td>1</td>\n",
       "      <td>Lisovynya38</td>\n",
       "      <td>40</td>\n",
       "      <td>Male</td>\n",
       "      <td>143</td>\n",
       "      <td>Frenzied Scimitar</td>\n",
       "      <td>1.56</td>\n",
       "    </tr>\n",
       "    <tr>\n",
       "      <th>2</th>\n",
       "      <td>2</td>\n",
       "      <td>Ithergue48</td>\n",
       "      <td>24</td>\n",
       "      <td>Male</td>\n",
       "      <td>92</td>\n",
       "      <td>Final Critic</td>\n",
       "      <td>4.88</td>\n",
       "    </tr>\n",
       "    <tr>\n",
       "      <th>3</th>\n",
       "      <td>3</td>\n",
       "      <td>Chamassasya86</td>\n",
       "      <td>24</td>\n",
       "      <td>Male</td>\n",
       "      <td>100</td>\n",
       "      <td>Blindscythe</td>\n",
       "      <td>3.27</td>\n",
       "    </tr>\n",
       "    <tr>\n",
       "      <th>4</th>\n",
       "      <td>4</td>\n",
       "      <td>Iskosia90</td>\n",
       "      <td>23</td>\n",
       "      <td>Male</td>\n",
       "      <td>131</td>\n",
       "      <td>Fury</td>\n",
       "      <td>1.44</td>\n",
       "    </tr>\n",
       "  </tbody>\n",
       "</table>\n",
       "</div>"
      ],
      "text/plain": [
       "   Purchase ID             SN  Age Gender  Item ID  \\\n",
       "0            0        Lisim78   20   Male      108   \n",
       "1            1    Lisovynya38   40   Male      143   \n",
       "2            2     Ithergue48   24   Male       92   \n",
       "3            3  Chamassasya86   24   Male      100   \n",
       "4            4      Iskosia90   23   Male      131   \n",
       "\n",
       "                                   Item Name  Price  \n",
       "0  Extraction, Quickblade Of Trembling Hands   3.53  \n",
       "1                          Frenzied Scimitar   1.56  \n",
       "2                               Final Critic   4.88  \n",
       "3                                Blindscythe   3.27  \n",
       "4                                       Fury   1.44  "
      ]
     },
     "execution_count": 9,
     "metadata": {},
     "output_type": "execute_result"
    }
   ],
   "source": [
    "# Dependencies and Setup\n",
    "import pandas as pd\n",
    "import numpy as np\n",
    "\n",
    "# File to Load (Remember to Change These)\n",
    "file_to_load = \"Resources/purchase_data.csv\"\n",
    "\n",
    "# Read Purchasing File and store into Pandas data frame\n",
    "purchase_data = pd.read_csv(file_to_load)\n",
    "purchase_data.head()"
   ]
  },
  {
   "cell_type": "markdown",
   "metadata": {},
   "source": [
    "## Player Count"
   ]
  },
  {
   "cell_type": "markdown",
   "metadata": {},
   "source": [
    "* Display the total number of players\n"
   ]
  },
  {
   "cell_type": "code",
   "execution_count": 4,
   "metadata": {},
   "outputs": [],
   "source": [
    "#Create and assign list of unique Heroes\n",
    "player_count = purchase_data.groupby(['SN']).size().reset_index(name='count')"
   ]
  },
  {
   "cell_type": "code",
   "execution_count": 5,
   "metadata": {},
   "outputs": [],
   "source": [
    "#Assign total count of Heroes\n",
    "total_players = len(player_count)"
   ]
  },
  {
   "cell_type": "code",
   "execution_count": 6,
   "metadata": {},
   "outputs": [],
   "source": [
    "#Add the total to a Dataframe\n",
    "player_df = pd.DataFrame({'Total Players': [total_players]})"
   ]
  },
  {
   "cell_type": "code",
   "execution_count": 7,
   "metadata": {},
   "outputs": [
    {
     "data": {
      "text/html": [
       "<div>\n",
       "<style scoped>\n",
       "    .dataframe tbody tr th:only-of-type {\n",
       "        vertical-align: middle;\n",
       "    }\n",
       "\n",
       "    .dataframe tbody tr th {\n",
       "        vertical-align: top;\n",
       "    }\n",
       "\n",
       "    .dataframe thead th {\n",
       "        text-align: right;\n",
       "    }\n",
       "</style>\n",
       "<table border=\"1\" class=\"dataframe\">\n",
       "  <thead>\n",
       "    <tr style=\"text-align: right;\">\n",
       "      <th></th>\n",
       "    </tr>\n",
       "    <tr>\n",
       "      <th>Total Players</th>\n",
       "    </tr>\n",
       "  </thead>\n",
       "  <tbody>\n",
       "    <tr>\n",
       "      <th>576</th>\n",
       "    </tr>\n",
       "  </tbody>\n",
       "</table>\n",
       "</div>"
      ],
      "text/plain": [
       "Empty DataFrame\n",
       "Columns: []\n",
       "Index: [576]"
      ]
     },
     "execution_count": 7,
     "metadata": {},
     "output_type": "execute_result"
    }
   ],
   "source": [
    "#Display Dataframe\n",
    "show = player_df.set_index('Total Players')\n",
    "show"
   ]
  },
  {
   "cell_type": "markdown",
   "metadata": {},
   "source": [
    "## Purchasing Analysis (Total)"
   ]
  },
  {
   "cell_type": "markdown",
   "metadata": {},
   "source": [
    "* Run basic calculations to obtain number of unique items, average price, etc.\n",
    "\n",
    "\n",
    "* Create a summary data frame to hold the results\n",
    "\n",
    "\n",
    "* Optional: give the displayed data cleaner formatting\n",
    "\n",
    "\n",
    "* Display the summary data frame\n"
   ]
  },
  {
   "cell_type": "code",
   "execution_count": 10,
   "metadata": {
    "scrolled": true
   },
   "outputs": [],
   "source": [
    "#Create and Assign list of unique items and prices\n",
    "unique_items = purchase_data.groupby(['Item Name','Price']).size().reset_index(name='Total Purchases')"
   ]
  },
  {
   "cell_type": "code",
   "execution_count": 11,
   "metadata": {},
   "outputs": [],
   "source": [
    "#Assign total number of items\n",
    "total_items = len(unique_items['Item Name'])"
   ]
  },
  {
   "cell_type": "code",
   "execution_count": 12,
   "metadata": {},
   "outputs": [],
   "source": [
    "#Assign the average price for all unique items\n",
    "average_price = round(np.mean(unique_items['Price']),2)"
   ]
  },
  {
   "cell_type": "code",
   "execution_count": 13,
   "metadata": {},
   "outputs": [],
   "source": [
    "#Assign the total amount of purches\n",
    "total_purchases = len(purchase_data)"
   ]
  },
  {
   "cell_type": "code",
   "execution_count": 14,
   "metadata": {},
   "outputs": [],
   "source": [
    "#Aggregate and assign the sum of the items sold\n",
    "total_rev = np.sum(purchase_data['Price'])"
   ]
  },
  {
   "cell_type": "code",
   "execution_count": 15,
   "metadata": {},
   "outputs": [
    {
     "data": {
      "text/html": [
       "<div>\n",
       "<style scoped>\n",
       "    .dataframe tbody tr th:only-of-type {\n",
       "        vertical-align: middle;\n",
       "    }\n",
       "\n",
       "    .dataframe tbody tr th {\n",
       "        vertical-align: top;\n",
       "    }\n",
       "\n",
       "    .dataframe thead th {\n",
       "        text-align: right;\n",
       "    }\n",
       "</style>\n",
       "<table border=\"1\" class=\"dataframe\">\n",
       "  <thead>\n",
       "    <tr style=\"text-align: right;\">\n",
       "      <th></th>\n",
       "      <th>Total Players</th>\n",
       "      <th>Total Items</th>\n",
       "      <th>Average Price</th>\n",
       "      <th>Total Purchases</th>\n",
       "      <th>Total Revenue</th>\n",
       "    </tr>\n",
       "  </thead>\n",
       "  <tbody>\n",
       "    <tr>\n",
       "      <th>0</th>\n",
       "      <td>576</td>\n",
       "      <td>183</td>\n",
       "      <td>$3.04</td>\n",
       "      <td>780</td>\n",
       "      <td>$2379.77</td>\n",
       "    </tr>\n",
       "  </tbody>\n",
       "</table>\n",
       "</div>"
      ],
      "text/plain": [
       "   Total Players  Total Items Average Price  Total Purchases Total Revenue\n",
       "0            576          183         $3.04              780      $2379.77"
      ]
     },
     "execution_count": 15,
     "metadata": {},
     "output_type": "execute_result"
    }
   ],
   "source": [
    "#Create dataframe and assign variables\n",
    "summary_frame = pd.DataFrame({\n",
    "                    'Total Players': [total_players],'Total Items': [total_items],\n",
    "                    'Average Price': [str('$')+str(average_price)],'Total Purchases': [total_purchases],\n",
    "                    'Total Revenue': [str('$')+str(total_rev)]\n",
    "                            })\n",
    "#Display Dataframe\n",
    "summary_frame"
   ]
  },
  {
   "cell_type": "markdown",
   "metadata": {},
   "source": [
    "## Gender Demographics"
   ]
  },
  {
   "cell_type": "markdown",
   "metadata": {},
   "source": [
    "* Percentage and Count of Male Players\n",
    "\n",
    "\n",
    "* Percentage and Count of Female Players\n",
    "\n",
    "\n",
    "* Percentage and Count of Other / Non-Disclosed\n",
    "\n",
    "\n"
   ]
  },
  {
   "cell_type": "code",
   "execution_count": 16,
   "metadata": {},
   "outputs": [],
   "source": [
    "#Create grouped dataframe on Gender\n",
    "group_gender = purchase_data.groupby(['Gender']).size().reset_index(name='Count of Gender')"
   ]
  },
  {
   "cell_type": "code",
   "execution_count": 17,
   "metadata": {},
   "outputs": [],
   "source": [
    "#Create index of table to Gender\n",
    "index = group_gender.set_index('Gender')"
   ]
  },
  {
   "cell_type": "code",
   "execution_count": 18,
   "metadata": {},
   "outputs": [],
   "source": [
    "#Assign Totals for each gender to a variable\n",
    "count_m = index.loc['Male','Count of Gender']\n",
    "count_f = index.loc['Female','Count of Gender']\n",
    "count_o = index.loc['Other / Non-Disclosed', 'Count of Gender']"
   ]
  },
  {
   "cell_type": "code",
   "execution_count": 19,
   "metadata": {},
   "outputs": [],
   "source": [
    "#Calculate the total and percentages of each gender\n",
    "total_gender = int(count_m)+int(count_f)+int(count_o)\n",
    "percent_m = str(round((int(count_m)/total_gender)*100,2))+str('%')\n",
    "percent_f = str(round((int(count_f)/total_gender)*100,2))+str('%')\n",
    "percent_o = str(round((int(count_o)/total_gender)*100,2))+str('%')"
   ]
  },
  {
   "cell_type": "code",
   "execution_count": 20,
   "metadata": {},
   "outputs": [],
   "source": [
    "#Create a dataframe of the percentages\n",
    "percent_df = pd.DataFrame({'Percent of Gender':[percent_f,percent_m,percent_o]})"
   ]
  },
  {
   "cell_type": "code",
   "execution_count": 21,
   "metadata": {},
   "outputs": [
    {
     "data": {
      "text/html": [
       "<div>\n",
       "<style scoped>\n",
       "    .dataframe tbody tr th:only-of-type {\n",
       "        vertical-align: middle;\n",
       "    }\n",
       "\n",
       "    .dataframe tbody tr th {\n",
       "        vertical-align: top;\n",
       "    }\n",
       "\n",
       "    .dataframe thead th {\n",
       "        text-align: right;\n",
       "    }\n",
       "</style>\n",
       "<table border=\"1\" class=\"dataframe\">\n",
       "  <thead>\n",
       "    <tr style=\"text-align: right;\">\n",
       "      <th></th>\n",
       "      <th>Gender</th>\n",
       "      <th>Count of Gender</th>\n",
       "      <th>Percent of Gender</th>\n",
       "    </tr>\n",
       "  </thead>\n",
       "  <tbody>\n",
       "    <tr>\n",
       "      <th>0</th>\n",
       "      <td>Female</td>\n",
       "      <td>113</td>\n",
       "      <td>14.49%</td>\n",
       "    </tr>\n",
       "    <tr>\n",
       "      <th>1</th>\n",
       "      <td>Male</td>\n",
       "      <td>652</td>\n",
       "      <td>83.59%</td>\n",
       "    </tr>\n",
       "    <tr>\n",
       "      <th>2</th>\n",
       "      <td>Other / Non-Disclosed</td>\n",
       "      <td>15</td>\n",
       "      <td>1.92%</td>\n",
       "    </tr>\n",
       "  </tbody>\n",
       "</table>\n",
       "</div>"
      ],
      "text/plain": [
       "                  Gender  Count of Gender Percent of Gender\n",
       "0                 Female              113            14.49%\n",
       "1                   Male              652            83.59%\n",
       "2  Other / Non-Disclosed               15             1.92%"
      ]
     },
     "execution_count": 21,
     "metadata": {},
     "output_type": "execute_result"
    }
   ],
   "source": [
    "#Add the dataframe to grouped by data\n",
    "group_gender['Percent of Gender'] = percent_df\n",
    "#print final \n",
    "group_gender"
   ]
  },
  {
   "cell_type": "markdown",
   "metadata": {},
   "source": [
    "\n",
    "## Purchasing Analysis (Gender)"
   ]
  },
  {
   "cell_type": "markdown",
   "metadata": {},
   "source": [
    "* Run basic calculations to obtain purchase count, avg. purchase price, avg. purchase total per person etc. by gender\n",
    "\n",
    "\n",
    "\n",
    "\n",
    "* Create a summary data frame to hold the results\n",
    "\n",
    "\n",
    "* Optional: give the displayed data cleaner formatting\n",
    "\n",
    "\n",
    "* Display the summary data frame"
   ]
  },
  {
   "cell_type": "code",
   "execution_count": 22,
   "metadata": {},
   "outputs": [],
   "source": [
    "#set index\n",
    "gender_purchase = purchase_data.set_index('Gender')"
   ]
  },
  {
   "cell_type": "code",
   "execution_count": 23,
   "metadata": {},
   "outputs": [],
   "source": [
    "#Total Value Assignment and calculation\n",
    "total_male_price = str('$')+str(np.sum(gender_purchase.loc['Male','Price']))\n",
    "total_female_price = str('$')+str(np.sum(gender_purchase.loc['Female','Price']))\n",
    "total_other = str('$')+str(np.sum(gender_purchase.loc['Other / Non-Disclosed','Price']))"
   ]
  },
  {
   "cell_type": "code",
   "execution_count": 24,
   "metadata": {},
   "outputs": [],
   "source": [
    "#Overall Average Assignment and Calculation\n",
    "avg_male_price = str('$')+str(round(np.mean(gender_purchase.loc['Male','Price']),3))\n",
    "avg_female_price = str('$')+str(round(np.mean(gender_purchase.loc['Female','Price']),3))\n",
    "avg_other = str('$')+str(round(np.mean(gender_purchase.loc['Other / Non-Disclosed','Price']),3))"
   ]
  },
  {
   "cell_type": "code",
   "execution_count": 25,
   "metadata": {},
   "outputs": [],
   "source": [
    "#average by person, by gender variable assignment and calculation\n",
    "total_by_person =  purchase_data.groupby(['SN']).sum()\n",
    "total_bp = total_by_person.drop(columns=['Purchase ID','Age','Item ID'])\n",
    "gendersn = purchase_data[['SN','Gender']]\n",
    "merge_table = pd.merge(gendersn, total_bp, on=\"SN\")\n",
    "fix_merge = merge_table.groupby(['SN','Price','Gender']).size().reset_index(name='SN Count')\n",
    "fix_table = fix_merge.drop(columns=['SN Count'])"
   ]
  },
  {
   "cell_type": "code",
   "execution_count": 26,
   "metadata": {},
   "outputs": [],
   "source": [
    "#Aggregate Data\n",
    "by_gender_final = fix_table.set_index('Gender')\n",
    "ttl_avg_male_price = str('$')+str(round(np.mean(by_gender_final.loc['Male','Price']),2))\n",
    "ttl_avg_female_price = str('$')+str(round(np.mean(by_gender_final.loc['Female','Price']),2))\n",
    "ttl_avg_other = str('$')+str(round(np.mean(by_gender_final.loc['Other / Non-Disclosed','Price']),2))"
   ]
  },
  {
   "cell_type": "code",
   "execution_count": 27,
   "metadata": {},
   "outputs": [],
   "source": [
    "#create totals dataframe\n",
    "purchase_g_df = pd.DataFrame({'Total Prices by Gender': [total_female_price,total_male_price,total_other]})\n",
    "#create averages dataframe\n",
    "purchase_e_df = pd.DataFrame({'Average Prices by Gender': [avg_female_price,avg_male_price,avg_other]})\n",
    "#Create total average by person DataFrame\n",
    "ttl_avg = pd.DataFrame({'Average by Person':[ttl_avg_female_price,ttl_avg_male_price,ttl_avg_other]})"
   ]
  },
  {
   "cell_type": "code",
   "execution_count": 28,
   "metadata": {},
   "outputs": [],
   "source": [
    "#add dataframes to gender index\n",
    "group_gender['Total Value'] = purchase_g_df\n",
    "group_gender['Average Price'] = purchase_e_df\n",
    "group_gender['Average Price by Person'] = ttl_avg"
   ]
  },
  {
   "cell_type": "code",
   "execution_count": 29,
   "metadata": {},
   "outputs": [
    {
     "data": {
      "text/html": [
       "<div>\n",
       "<style scoped>\n",
       "    .dataframe tbody tr th:only-of-type {\n",
       "        vertical-align: middle;\n",
       "    }\n",
       "\n",
       "    .dataframe tbody tr th {\n",
       "        vertical-align: top;\n",
       "    }\n",
       "\n",
       "    .dataframe thead th {\n",
       "        text-align: right;\n",
       "    }\n",
       "</style>\n",
       "<table border=\"1\" class=\"dataframe\">\n",
       "  <thead>\n",
       "    <tr style=\"text-align: right;\">\n",
       "      <th></th>\n",
       "      <th>Gender</th>\n",
       "      <th>Total Purchases</th>\n",
       "      <th>Average Price Overall</th>\n",
       "      <th>Total Value</th>\n",
       "      <th>Average Price by Person</th>\n",
       "    </tr>\n",
       "  </thead>\n",
       "  <tbody>\n",
       "    <tr>\n",
       "      <th>0</th>\n",
       "      <td>Female</td>\n",
       "      <td>113</td>\n",
       "      <td>$3.203</td>\n",
       "      <td>$361.94</td>\n",
       "      <td>$4.47</td>\n",
       "    </tr>\n",
       "    <tr>\n",
       "      <th>1</th>\n",
       "      <td>Male</td>\n",
       "      <td>652</td>\n",
       "      <td>$3.018</td>\n",
       "      <td>$1967.64</td>\n",
       "      <td>$4.07</td>\n",
       "    </tr>\n",
       "    <tr>\n",
       "      <th>2</th>\n",
       "      <td>Other / Non-Disclosed</td>\n",
       "      <td>15</td>\n",
       "      <td>$3.346</td>\n",
       "      <td>$50.19</td>\n",
       "      <td>$4.56</td>\n",
       "    </tr>\n",
       "  </tbody>\n",
       "</table>\n",
       "</div>"
      ],
      "text/plain": [
       "                  Gender  Total Purchases Average Price Overall Total Value  \\\n",
       "0                 Female              113                $3.203     $361.94   \n",
       "1                   Male              652                $3.018    $1967.64   \n",
       "2  Other / Non-Disclosed               15                $3.346      $50.19   \n",
       "\n",
       "  Average Price by Person  \n",
       "0                   $4.47  \n",
       "1                   $4.07  \n",
       "2                   $4.56  "
      ]
     },
     "execution_count": 29,
     "metadata": {},
     "output_type": "execute_result"
    }
   ],
   "source": [
    "#modify dataframe columns for display\n",
    "group_gender_final = group_gender[['Gender','Count of Gender','Average Price','Total Value','Average Price by Person']]\n",
    "group_gender_final.columns = ['Gender','Total Purchases', 'Average Price Overall', 'Total Value','Average Price by Person']\n",
    "\n",
    "#print dataframe\n",
    "group_gender_final"
   ]
  },
  {
   "cell_type": "markdown",
   "metadata": {},
   "source": [
    "## Age Demographics"
   ]
  },
  {
   "cell_type": "markdown",
   "metadata": {},
   "source": [
    "* Establish bins for ages\n",
    "\n",
    "\n",
    "* Categorize the existing players using the age bins. Hint: use pd.cut()\n",
    "\n",
    "\n",
    "* Calculate the numbers and percentages by age group\n",
    "\n",
    "\n",
    "* Create a summary data frame to hold the results\n",
    "\n",
    "\n",
    "* Optional: round the percentage column to two decimal points\n",
    "\n",
    "\n",
    "* Display Age Demographics Table\n"
   ]
  },
  {
   "cell_type": "code",
   "execution_count": 30,
   "metadata": {},
   "outputs": [],
   "source": [
    "#binning, labeling and cutting\n",
    "bins = [10,14,19,24,29,34,39,44,49]\n",
    "group_names = ['10-14', '15-19', '20-24', '25-29', '30-34','35-39','40-44','45-49']\n",
    "purchase_data['Age Range']=pd.cut(purchase_data[\"Age\"], [10,14,19,24,29,34,39,44,49], labels=group_names)"
   ]
  },
  {
   "cell_type": "code",
   "execution_count": 31,
   "metadata": {},
   "outputs": [],
   "source": [
    "#Group Data, Set Total Purchases\n",
    "PrDf = purchase_data.groupby(['Age Range']).size().reset_index(name='Total Purchases')\n",
    "#Create index of table to Gender\n",
    "index2 = PrDf.set_index('Age Range')\n",
    "#Assign Totals for each gender to a variable\n",
    "count_1014 = index2.loc['10-14','Total Purchases']\n",
    "count_1519 = index2.loc['15-19','Total Purchases']\n",
    "count_2024 = index2.loc['20-24','Total Purchases']\n",
    "count_2529 = index2.loc['25-29','Total Purchases']\n",
    "count_3034 = index2.loc['30-34','Total Purchases']\n",
    "count_3539 = index2.loc['35-39','Total Purchases']\n",
    "count_4044 = index2.loc['40-44','Total Purchases']\n",
    "count_4549 = index2.loc['45-49','Total Purchases']"
   ]
  },
  {
   "cell_type": "code",
   "execution_count": 32,
   "metadata": {},
   "outputs": [
    {
     "data": {
      "text/html": [
       "<div>\n",
       "<style scoped>\n",
       "    .dataframe tbody tr th:only-of-type {\n",
       "        vertical-align: middle;\n",
       "    }\n",
       "\n",
       "    .dataframe tbody tr th {\n",
       "        vertical-align: top;\n",
       "    }\n",
       "\n",
       "    .dataframe thead th {\n",
       "        text-align: right;\n",
       "    }\n",
       "</style>\n",
       "<table border=\"1\" class=\"dataframe\">\n",
       "  <thead>\n",
       "    <tr style=\"text-align: right;\">\n",
       "      <th></th>\n",
       "      <th>Age Range</th>\n",
       "      <th>Total Purchases</th>\n",
       "      <th>Percent of Total Age Range</th>\n",
       "    </tr>\n",
       "  </thead>\n",
       "  <tbody>\n",
       "    <tr>\n",
       "      <th>0</th>\n",
       "      <td>10-14</td>\n",
       "      <td>19</td>\n",
       "      <td>2.94%</td>\n",
       "    </tr>\n",
       "    <tr>\n",
       "      <th>1</th>\n",
       "      <td>15-19</td>\n",
       "      <td>136</td>\n",
       "      <td>21.02%</td>\n",
       "    </tr>\n",
       "    <tr>\n",
       "      <th>2</th>\n",
       "      <td>20-24</td>\n",
       "      <td>365</td>\n",
       "      <td>56.41%</td>\n",
       "    </tr>\n",
       "    <tr>\n",
       "      <th>3</th>\n",
       "      <td>25-29</td>\n",
       "      <td>101</td>\n",
       "      <td>15.61%</td>\n",
       "    </tr>\n",
       "    <tr>\n",
       "      <th>4</th>\n",
       "      <td>30-34</td>\n",
       "      <td>73</td>\n",
       "      <td>11.28%</td>\n",
       "    </tr>\n",
       "    <tr>\n",
       "      <th>5</th>\n",
       "      <td>35-39</td>\n",
       "      <td>41</td>\n",
       "      <td>6.34%</td>\n",
       "    </tr>\n",
       "    <tr>\n",
       "      <th>6</th>\n",
       "      <td>40-44</td>\n",
       "      <td>12</td>\n",
       "      <td>1.85%</td>\n",
       "    </tr>\n",
       "    <tr>\n",
       "      <th>7</th>\n",
       "      <td>45-49</td>\n",
       "      <td>1</td>\n",
       "      <td>0.15%</td>\n",
       "    </tr>\n",
       "  </tbody>\n",
       "</table>\n",
       "</div>"
      ],
      "text/plain": [
       "  Age Range  Total Purchases Percent of Total Age Range\n",
       "0     10-14               19                      2.94%\n",
       "1     15-19              136                     21.02%\n",
       "2     20-24              365                     56.41%\n",
       "3     25-29              101                     15.61%\n",
       "4     30-34               73                     11.28%\n",
       "5     35-39               41                      6.34%\n",
       "6     40-44               12                      1.85%\n",
       "7     45-49                1                      0.15%"
      ]
     },
     "execution_count": 32,
     "metadata": {},
     "output_type": "execute_result"
    }
   ],
   "source": [
    "#Calculate the total and percentages of each gender\n",
    "total_pur = count_1014+count_1519+count_2024+count_3034+count_3539+count_4044+count_4549\n",
    "percent_1014 = str(round((float(count_1014)/total_pur)*100,2))+str('%')\n",
    "percent_1519 = str(round((float(count_1519)/total_pur)*100,2))+str('%')\n",
    "percent_2024 = str(round((float(count_2024)/total_pur)*100,2))+str('%')\n",
    "percent_2529 = str(round((float(count_2529)/total_pur)*100,2))+str('%')\n",
    "percent_3034 = str(round((float(count_3034)/total_pur)*100,2))+str('%')\n",
    "percent_3539 = str(round((float(count_3539)/total_pur)*100,2))+str('%')\n",
    "percent_4044 = str(round((float(count_4044)/total_pur)*100,2))+str('%')\n",
    "percent_4549 = str(round((float(count_4549)/total_pur)*100,2))+str('%')\n",
    "\n",
    "ttl_age = pd.DataFrame({'Precent of Age':[percent_1014,percent_1519,percent_2024,percent_2529,\n",
    "                                                   percent_3034,percent_3539,percent_4044,percent_4549]})\n",
    "\n",
    "PrDf['Percent of Total Age Range'] = ttl_age\n",
    "PrDf"
   ]
  },
  {
   "cell_type": "markdown",
   "metadata": {},
   "source": [
    "## Purchasing Analysis (Age)"
   ]
  },
  {
   "cell_type": "markdown",
   "metadata": {},
   "source": [
    "* Bin the purchase_data data frame by age\n",
    "\n",
    "\n",
    "* Run basic calculations to obtain purchase count, avg. purchase price, avg. purchase total per person etc. in the table below\n",
    "\n",
    "\n",
    "* Create a summary data frame to hold the results\n",
    "\n",
    "\n",
    "* Optional: give the displayed data cleaner formatting\n",
    "\n",
    "\n",
    "* Display the summary data frame"
   ]
  },
  {
   "cell_type": "code",
   "execution_count": 33,
   "metadata": {},
   "outputs": [],
   "source": [
    "#binning, labeling and cutting\n",
    "bins2 = [10,14,19,24,29,34,39,44,49]\n",
    "group_names2 = ['10-14', '15-19', '20-24', '25-29', '30-34','35-39','40-44','45-49']\n",
    "purchase_data['Age Range']=pd.cut(purchase_data[\"Age\"], [10,14,19,24,29,34,39,44,49], labels=group_names)"
   ]
  },
  {
   "cell_type": "code",
   "execution_count": 34,
   "metadata": {},
   "outputs": [],
   "source": [
    "#averages calc\n",
    "age_purchase_grp = purchase_data.groupby(['Age Range']).size().reset_index(name='Total Purchases')\n",
    "age_avgtotal = purchase_data.set_index(['Age Range'])\n",
    "age_fix0 = str('$')+str(round(np.mean(age_avgtotal.loc['10-14','Price']),2))\n",
    "age_fix1 = str('$')+str(round(np.mean(age_avgtotal.loc['15-19','Price']),2))\n",
    "age_fix2 = str('$')+str(round(np.mean(age_avgtotal.loc['20-24','Price']),2))\n",
    "age_fix3 = str('$')+str(round(np.mean(age_avgtotal.loc['25-29','Price']),2))\n",
    "age_fix4 = str('$')+str(round(np.mean(age_avgtotal.loc['30-34','Price']),2))\n",
    "age_fix5 = str('$')+str(round(np.mean(age_avgtotal.loc['35-39','Price']),2))\n",
    "age_fix6 = str('$')+str(round(np.mean(age_avgtotal.loc['40-44','Price']),2))\n",
    "age_fix7 = str('$')+str(round((age_avgtotal.loc['45-49','Price']),2))"
   ]
  },
  {
   "cell_type": "code",
   "execution_count": 35,
   "metadata": {},
   "outputs": [],
   "source": [
    "#totals calc\n",
    "age_ttl0 = str('$')+str(round(np.sum(age_avgtotal.loc['10-14','Price']),2))\n",
    "age_ttl1 = str('$')+str(round(np.sum(age_avgtotal.loc['15-19','Price']),2))\n",
    "age_ttl2 = str('$')+str(round(np.sum(age_avgtotal.loc['20-24','Price']),2))\n",
    "age_ttl3 = str('$')+str(round(np.sum(age_avgtotal.loc['25-29','Price']),2))\n",
    "age_ttl4 = str('$')+str(round(np.sum(age_avgtotal.loc['30-34','Price']),2))\n",
    "age_ttl5 = str('$')+str(round(np.sum(age_avgtotal.loc['35-39','Price']),2))\n",
    "age_ttl6 = str('$')+str(round(np.sum(age_avgtotal.loc['40-44','Price']),2))\n",
    "age_ttl7 = str('$')+str(round((age_avgtotal.loc['45-49','Price']),2))"
   ]
  },
  {
   "cell_type": "code",
   "execution_count": 36,
   "metadata": {},
   "outputs": [],
   "source": [
    "#average by person, by age range variable assignment and calculation\n",
    "#remember these from above----total_by_person =  purchase_data.groupby(['SN']).sum()\n",
    "#remember these from above----total_bp = total_by_person.drop(columns=['Purchase ID','Age','Item ID'])\n",
    "gendersn2 = purchase_data[['SN','Age Range']]\n",
    "merge_table2 = pd.merge(gendersn2, total_bp, on=\"SN\")\n",
    "fix_merge2 = merge_table2.groupby(['SN','Price','Age Range']).size().reset_index(name='SN Count')\n",
    "fix_table2 = fix_merge2.drop(columns=['SN Count'])\n",
    "done = fix_table2.set_index('Age Range')\n",
    "age_0 = str('$')+str(round(np.mean(done.loc['10-14','Price']),2))\n",
    "age_1 = str('$')+str(round(np.mean(done.loc['15-19','Price']),2))\n",
    "age_2 = str('$')+str(round(np.mean(done.loc['20-24','Price']),2))\n",
    "age_3 = str('$')+str(round(np.mean(done.loc['25-29','Price']),2))\n",
    "age_4 = str('$')+str(round(np.mean(done.loc['30-34','Price']),2))\n",
    "age_5 = str('$')+str(round(np.mean(done.loc['35-39','Price']),2))\n",
    "age_6 = str('$')+str(round(np.mean(done.loc['40-44','Price']),2))\n",
    "age_7 = str('$')+str(round((done.loc['45-49','Price']),2))"
   ]
  },
  {
   "cell_type": "code",
   "execution_count": 37,
   "metadata": {},
   "outputs": [],
   "source": [
    "#creating staging dataframes\n",
    "age_oap_df = pd.DataFrame({'Overall Average Price': [age_fix0,age_fix1,age_fix2,age_fix3,age_fix4,age_fix5,age_fix6,age_fix7]})\n",
    "age_totalvalue_df = pd.DataFrame({'Total Value':[age_ttl0,age_ttl1,age_ttl2,age_ttl3,age_ttl4,age_ttl5,age_ttl6,age_ttl7]})\n",
    "age_aap_df = pd.DataFrame({'Average Price per Person': [age_0,age_1,age_2,age_3,age_4,age_5,age_6,age_7]})"
   ]
  },
  {
   "cell_type": "code",
   "execution_count": 38,
   "metadata": {},
   "outputs": [],
   "source": [
    "#adding columns to final dataframe\n",
    "age_purchase_grp['Overall Average Price'] = age_oap_df\n",
    "age_purchase_grp['Total Value']=age_totalvalue_df\n",
    "age_purchase_grp['Average Price per Person']=age_aap_df"
   ]
  },
  {
   "cell_type": "code",
   "execution_count": 39,
   "metadata": {},
   "outputs": [
    {
     "data": {
      "text/html": [
       "<div>\n",
       "<style scoped>\n",
       "    .dataframe tbody tr th:only-of-type {\n",
       "        vertical-align: middle;\n",
       "    }\n",
       "\n",
       "    .dataframe tbody tr th {\n",
       "        vertical-align: top;\n",
       "    }\n",
       "\n",
       "    .dataframe thead th {\n",
       "        text-align: right;\n",
       "    }\n",
       "</style>\n",
       "<table border=\"1\" class=\"dataframe\">\n",
       "  <thead>\n",
       "    <tr style=\"text-align: right;\">\n",
       "      <th></th>\n",
       "      <th>Age Range</th>\n",
       "      <th>Total Purchases</th>\n",
       "      <th>Overall Average Price</th>\n",
       "      <th>Total Value</th>\n",
       "      <th>Average Price per Person</th>\n",
       "    </tr>\n",
       "  </thead>\n",
       "  <tbody>\n",
       "    <tr>\n",
       "      <th>0</th>\n",
       "      <td>10-14</td>\n",
       "      <td>19</td>\n",
       "      <td>$2.68</td>\n",
       "      <td>$50.95</td>\n",
       "      <td>$3.4</td>\n",
       "    </tr>\n",
       "    <tr>\n",
       "      <th>1</th>\n",
       "      <td>15-19</td>\n",
       "      <td>136</td>\n",
       "      <td>$3.04</td>\n",
       "      <td>$412.89</td>\n",
       "      <td>$3.86</td>\n",
       "    </tr>\n",
       "    <tr>\n",
       "      <th>2</th>\n",
       "      <td>20-24</td>\n",
       "      <td>365</td>\n",
       "      <td>$3.05</td>\n",
       "      <td>$1114.06</td>\n",
       "      <td>$4.32</td>\n",
       "    </tr>\n",
       "    <tr>\n",
       "      <th>3</th>\n",
       "      <td>25-29</td>\n",
       "      <td>101</td>\n",
       "      <td>$2.9</td>\n",
       "      <td>$293.0</td>\n",
       "      <td>$3.81</td>\n",
       "    </tr>\n",
       "    <tr>\n",
       "      <th>4</th>\n",
       "      <td>30-34</td>\n",
       "      <td>73</td>\n",
       "      <td>$2.93</td>\n",
       "      <td>$214.0</td>\n",
       "      <td>$4.12</td>\n",
       "    </tr>\n",
       "    <tr>\n",
       "      <th>5</th>\n",
       "      <td>35-39</td>\n",
       "      <td>41</td>\n",
       "      <td>$3.6</td>\n",
       "      <td>$147.67</td>\n",
       "      <td>$4.76</td>\n",
       "    </tr>\n",
       "    <tr>\n",
       "      <th>6</th>\n",
       "      <td>40-44</td>\n",
       "      <td>12</td>\n",
       "      <td>$3.04</td>\n",
       "      <td>$36.54</td>\n",
       "      <td>$3.32</td>\n",
       "    </tr>\n",
       "    <tr>\n",
       "      <th>7</th>\n",
       "      <td>45-49</td>\n",
       "      <td>1</td>\n",
       "      <td>$1.7</td>\n",
       "      <td>$1.7</td>\n",
       "      <td>$1.7</td>\n",
       "    </tr>\n",
       "  </tbody>\n",
       "</table>\n",
       "</div>"
      ],
      "text/plain": [
       "  Age Range  Total Purchases Overall Average Price Total Value  \\\n",
       "0     10-14               19                 $2.68      $50.95   \n",
       "1     15-19              136                 $3.04     $412.89   \n",
       "2     20-24              365                 $3.05    $1114.06   \n",
       "3     25-29              101                  $2.9      $293.0   \n",
       "4     30-34               73                 $2.93      $214.0   \n",
       "5     35-39               41                  $3.6     $147.67   \n",
       "6     40-44               12                 $3.04      $36.54   \n",
       "7     45-49                1                  $1.7        $1.7   \n",
       "\n",
       "  Average Price per Person  \n",
       "0                     $3.4  \n",
       "1                    $3.86  \n",
       "2                    $4.32  \n",
       "3                    $3.81  \n",
       "4                    $4.12  \n",
       "5                    $4.76  \n",
       "6                    $3.32  \n",
       "7                     $1.7  "
      ]
     },
     "execution_count": 39,
     "metadata": {},
     "output_type": "execute_result"
    }
   ],
   "source": [
    "#print dataframe\n",
    "age_purchase_grp"
   ]
  },
  {
   "cell_type": "markdown",
   "metadata": {},
   "source": [
    "## Top Spenders"
   ]
  },
  {
   "cell_type": "markdown",
   "metadata": {},
   "source": [
    "* Run basic calculations to obtain the results in the table below\n",
    "\n",
    "\n",
    "* Create a summary data frame to hold the results\n",
    "\n",
    "\n",
    "* Sort the total purchase value column in descending order\n",
    "\n",
    "\n",
    "* Optional: give the displayed data cleaner formatting\n",
    "\n",
    "\n",
    "* Display a preview of the summary data frame\n",
    "\n"
   ]
  },
  {
   "cell_type": "code",
   "execution_count": 40,
   "metadata": {},
   "outputs": [
    {
     "name": "stderr",
     "output_type": "stream",
     "text": [
      "C:\\Users\\pwola\\Anaconda3\\lib\\site-packages\\ipykernel_launcher.py:32: SettingWithCopyWarning: \n",
      "A value is trying to be set on a copy of a slice from a DataFrame.\n",
      "Try using .loc[row_indexer,col_indexer] = value instead\n",
      "\n",
      "See the caveats in the documentation: http://pandas.pydata.org/pandas-docs/stable/indexing.html#indexing-view-versus-copy\n",
      "C:\\Users\\pwola\\Anaconda3\\lib\\site-packages\\ipykernel_launcher.py:33: SettingWithCopyWarning: \n",
      "A value is trying to be set on a copy of a slice from a DataFrame.\n",
      "Try using .loc[row_indexer,col_indexer] = value instead\n",
      "\n",
      "See the caveats in the documentation: http://pandas.pydata.org/pandas-docs/stable/indexing.html#indexing-view-versus-copy\n"
     ]
    },
    {
     "data": {
      "text/html": [
       "<div>\n",
       "<style scoped>\n",
       "    .dataframe tbody tr th:only-of-type {\n",
       "        vertical-align: middle;\n",
       "    }\n",
       "\n",
       "    .dataframe tbody tr th {\n",
       "        vertical-align: top;\n",
       "    }\n",
       "\n",
       "    .dataframe thead th {\n",
       "        text-align: right;\n",
       "    }\n",
       "</style>\n",
       "<table border=\"1\" class=\"dataframe\">\n",
       "  <thead>\n",
       "    <tr style=\"text-align: right;\">\n",
       "      <th></th>\n",
       "      <th>SN</th>\n",
       "      <th>Total Purchases</th>\n",
       "      <th>All Purchases Average</th>\n",
       "      <th>Total Purchase Value</th>\n",
       "    </tr>\n",
       "  </thead>\n",
       "  <tbody>\n",
       "    <tr>\n",
       "      <th>0</th>\n",
       "      <td>Lisosia93</td>\n",
       "      <td>5</td>\n",
       "      <td>$3.79</td>\n",
       "      <td>$18.96</td>\n",
       "    </tr>\n",
       "    <tr>\n",
       "      <th>1</th>\n",
       "      <td>Iral74</td>\n",
       "      <td>4</td>\n",
       "      <td>$3.4</td>\n",
       "      <td>$13.62</td>\n",
       "    </tr>\n",
       "    <tr>\n",
       "      <th>2</th>\n",
       "      <td>Idastidru52</td>\n",
       "      <td>4</td>\n",
       "      <td>$3.86</td>\n",
       "      <td>$15.45</td>\n",
       "    </tr>\n",
       "    <tr>\n",
       "      <th>3</th>\n",
       "      <td>Asur53</td>\n",
       "      <td>3</td>\n",
       "      <td>$2.48</td>\n",
       "      <td>$7.44</td>\n",
       "    </tr>\n",
       "    <tr>\n",
       "      <th>4</th>\n",
       "      <td>Inguron55</td>\n",
       "      <td>3</td>\n",
       "      <td>$3.7</td>\n",
       "      <td>$11.11</td>\n",
       "    </tr>\n",
       "  </tbody>\n",
       "</table>\n",
       "</div>"
      ],
      "text/plain": [
       "            SN  Total Purchases All Purchases Average Total Purchase Value\n",
       "0    Lisosia93                5                 $3.79               $18.96\n",
       "1       Iral74                4                  $3.4               $13.62\n",
       "2  Idastidru52                4                 $3.86               $15.45\n",
       "3       Asur53                3                 $2.48                $7.44\n",
       "4    Inguron55                3                  $3.7               $11.11"
      ]
     },
     "execution_count": 40,
     "metadata": {},
     "output_type": "execute_result"
    }
   ],
   "source": [
    "PrDf2 = purchase_data.groupby(['SN']).size().reset_index(name='Total Purchases')\n",
    "sort_count = PrDf2.sort_values(by='Total Purchases', ascending=False).reset_index()\n",
    "org_sortcount = sort_count.drop(columns=['index'])\n",
    "top5 = org_sortcount.head()\n",
    "PrDf2 = top5.set_index('SN')\n",
    "\n",
    "num1 = total_bp.loc['Lisosia93','Price']\n",
    "num2 = total_bp.loc['Iral74','Price']\n",
    "num3 = total_bp.loc['Idastidru52','Price']\n",
    "num4 = total_bp.loc['Asur53','Price']\n",
    "num5 = total_bp.loc['Inguron55','Price']\n",
    "\n",
    "num6 = PrDf2.loc['Lisosia93','Total Purchases']\n",
    "num7 = PrDf2.loc['Iral74','Total Purchases']\n",
    "num8 = PrDf2.loc['Idastidru52','Total Purchases']\n",
    "num9 = PrDf2.loc['Asur53','Total Purchases']\n",
    "num10 = PrDf2.loc['Inguron55','Total Purchases']\n",
    "\n",
    "num11=str('$')+str(round(num1/num6,2))\n",
    "num12=str('$')+str(round(num2/num7,2))\n",
    "num13=str('$')+str(round(num3/num8,2))\n",
    "num14=str('$')+str(round(num4/num9,2))\n",
    "num15=str('$')+str(round(num5/num10,2))\n",
    "\n",
    "\n",
    "num_df0=top5\n",
    "num_df = pd.DataFrame({'Average Purchase Price':[num11,(num12),num13,num14,num15]})\n",
    "num_df2 = pd.DataFrame({'Total Purchase Value':[str('$')+str(round(num1,2)),str('$')+str(round(num2,2)),\n",
    "                                                str('$')+str(round(num3,2)),str('$')+str(round(num4,2)),\n",
    "                                                str('$')+str(round(num5,2))]})\n",
    "\n",
    "num_df0['All Purchases Average']=num_df\n",
    "num_df0['Total Purchase Value']=num_df2\n",
    "num_df0"
   ]
  },
  {
   "cell_type": "markdown",
   "metadata": {},
   "source": [
    "## Most Popular Items"
   ]
  },
  {
   "cell_type": "markdown",
   "metadata": {},
   "source": [
    "* Retrieve the Item ID, Item Name, and Item Price columns\n",
    "\n",
    "\n",
    "* Group by Item ID and Item Name. Perform calculations to obtain purchase count, item price, and total purchase value\n",
    "\n",
    "\n",
    "* Create a summary data frame to hold the results\n",
    "\n",
    "\n",
    "* Sort the purchase count column in descending order\n",
    "\n",
    "\n",
    "* Optional: give the displayed data cleaner formatting\n",
    "\n",
    "\n",
    "* Display a preview of the summary data frame\n",
    "\n"
   ]
  },
  {
   "cell_type": "code",
   "execution_count": 41,
   "metadata": {},
   "outputs": [
    {
     "data": {
      "text/html": [
       "<div>\n",
       "<style scoped>\n",
       "    .dataframe tbody tr th:only-of-type {\n",
       "        vertical-align: middle;\n",
       "    }\n",
       "\n",
       "    .dataframe tbody tr th {\n",
       "        vertical-align: top;\n",
       "    }\n",
       "\n",
       "    .dataframe thead th {\n",
       "        text-align: right;\n",
       "    }\n",
       "</style>\n",
       "<table border=\"1\" class=\"dataframe\">\n",
       "  <thead>\n",
       "    <tr style=\"text-align: right;\">\n",
       "      <th></th>\n",
       "      <th>Item ID</th>\n",
       "      <th>Item Name</th>\n",
       "      <th>Price</th>\n",
       "      <th>Total Purchases</th>\n",
       "      <th>Total Purchase Value</th>\n",
       "    </tr>\n",
       "  </thead>\n",
       "  <tbody>\n",
       "    <tr>\n",
       "      <th>0</th>\n",
       "      <td>178</td>\n",
       "      <td>Oathbreaker, Last Hope of the Breaking Storm</td>\n",
       "      <td>4.23</td>\n",
       "      <td>12</td>\n",
       "      <td>50.76</td>\n",
       "    </tr>\n",
       "    <tr>\n",
       "      <th>1</th>\n",
       "      <td>145</td>\n",
       "      <td>Fiery Glass Crusader</td>\n",
       "      <td>4.58</td>\n",
       "      <td>9</td>\n",
       "      <td>41.22</td>\n",
       "    </tr>\n",
       "    <tr>\n",
       "      <th>2</th>\n",
       "      <td>108</td>\n",
       "      <td>Extraction, Quickblade Of Trembling Hands</td>\n",
       "      <td>3.53</td>\n",
       "      <td>9</td>\n",
       "      <td>31.77</td>\n",
       "    </tr>\n",
       "    <tr>\n",
       "      <th>3</th>\n",
       "      <td>82</td>\n",
       "      <td>Nirvana</td>\n",
       "      <td>4.90</td>\n",
       "      <td>9</td>\n",
       "      <td>44.10</td>\n",
       "    </tr>\n",
       "    <tr>\n",
       "      <th>4</th>\n",
       "      <td>19</td>\n",
       "      <td>Pursuit, Cudgel of Necromancy</td>\n",
       "      <td>1.02</td>\n",
       "      <td>8</td>\n",
       "      <td>8.16</td>\n",
       "    </tr>\n",
       "  </tbody>\n",
       "</table>\n",
       "</div>"
      ],
      "text/plain": [
       "   Item ID                                     Item Name  Price  \\\n",
       "0      178  Oathbreaker, Last Hope of the Breaking Storm   4.23   \n",
       "1      145                          Fiery Glass Crusader   4.58   \n",
       "2      108     Extraction, Quickblade Of Trembling Hands   3.53   \n",
       "3       82                                       Nirvana   4.90   \n",
       "4       19                 Pursuit, Cudgel of Necromancy   1.02   \n",
       "\n",
       "   Total Purchases  Total Purchase Value  \n",
       "0               12                 50.76  \n",
       "1                9                 41.22  \n",
       "2                9                 31.77  \n",
       "3                9                 44.10  \n",
       "4                8                  8.16  "
      ]
     },
     "execution_count": 41,
     "metadata": {},
     "output_type": "execute_result"
    }
   ],
   "source": [
    "super_items = purchase_data[['Item ID','Item Name','Price']]\n",
    "group_items = super_items.groupby(['Item ID','Item Name','Price']).size().reset_index(name='Total Purchases')\n",
    "sorted_items = group_items.sort_values(by='Total Purchases',ascending=False).reset_index()\n",
    "sorted_items = sorted_items.drop(columns=['index'])\n",
    "prr = sorted_items[['Price']]\n",
    "tpv1 = sorted_items[['Total Purchases']]\n",
    "tpv2 = round(prr.iloc[0,0]*tpv1.iloc[0,0],2)\n",
    "tpv3 = round(prr.iloc[1,0]*tpv1.iloc[1,0],2)\n",
    "tpv4 = round(prr.iloc[2,0]*tpv1.iloc[2,0],2)\n",
    "tpv5 = round(prr.iloc[3,0]*tpv1.iloc[3,0],2)\n",
    "tpv6 = round(prr.iloc[4,0]*tpv1.iloc[4,0],2)\n",
    "\n",
    "tpv_df = pd.DataFrame({'Total Value':[tpv2,tpv3,tpv4,tpv5,tpv6]})\n",
    "sorted_items['Total Purchase Value'] = tpv_df\n",
    "sorted_items.head()"
   ]
  },
  {
   "cell_type": "markdown",
   "metadata": {},
   "source": [
    "## Most Profitable Items"
   ]
  },
  {
   "cell_type": "markdown",
   "metadata": {},
   "source": [
    "* Sort the above table by total purchase value in descending order\n",
    "\n",
    "\n",
    "* Optional: give the displayed data cleaner formatting\n",
    "\n",
    "\n",
    "* Display a preview of the data frame\n",
    "\n"
   ]
  },
  {
   "cell_type": "code",
   "execution_count": 42,
   "metadata": {
    "scrolled": true
   },
   "outputs": [
    {
     "data": {
      "text/html": [
       "<div>\n",
       "<style scoped>\n",
       "    .dataframe tbody tr th:only-of-type {\n",
       "        vertical-align: middle;\n",
       "    }\n",
       "\n",
       "    .dataframe tbody tr th {\n",
       "        vertical-align: top;\n",
       "    }\n",
       "\n",
       "    .dataframe thead th {\n",
       "        text-align: right;\n",
       "    }\n",
       "</style>\n",
       "<table border=\"1\" class=\"dataframe\">\n",
       "  <thead>\n",
       "    <tr style=\"text-align: right;\">\n",
       "      <th></th>\n",
       "      <th>Item ID</th>\n",
       "      <th>Item Name</th>\n",
       "      <th>Price</th>\n",
       "      <th>Total Purchases</th>\n",
       "      <th>Total Purchase Value</th>\n",
       "    </tr>\n",
       "  </thead>\n",
       "  <tbody>\n",
       "    <tr>\n",
       "      <th>0</th>\n",
       "      <td>178</td>\n",
       "      <td>Oathbreaker, Last Hope of the Breaking Storm</td>\n",
       "      <td>4.23</td>\n",
       "      <td>12</td>\n",
       "      <td>50.76</td>\n",
       "    </tr>\n",
       "    <tr>\n",
       "      <th>1</th>\n",
       "      <td>82</td>\n",
       "      <td>Nirvana</td>\n",
       "      <td>4.90</td>\n",
       "      <td>9</td>\n",
       "      <td>44.10</td>\n",
       "    </tr>\n",
       "    <tr>\n",
       "      <th>2</th>\n",
       "      <td>145</td>\n",
       "      <td>Fiery Glass Crusader</td>\n",
       "      <td>4.58</td>\n",
       "      <td>9</td>\n",
       "      <td>41.22</td>\n",
       "    </tr>\n",
       "    <tr>\n",
       "      <th>3</th>\n",
       "      <td>108</td>\n",
       "      <td>Extraction, Quickblade Of Trembling Hands</td>\n",
       "      <td>3.53</td>\n",
       "      <td>9</td>\n",
       "      <td>31.77</td>\n",
       "    </tr>\n",
       "    <tr>\n",
       "      <th>4</th>\n",
       "      <td>19</td>\n",
       "      <td>Pursuit, Cudgel of Necromancy</td>\n",
       "      <td>1.02</td>\n",
       "      <td>8</td>\n",
       "      <td>8.16</td>\n",
       "    </tr>\n",
       "  </tbody>\n",
       "</table>\n",
       "</div>"
      ],
      "text/plain": [
       "   Item ID                                     Item Name  Price  \\\n",
       "0      178  Oathbreaker, Last Hope of the Breaking Storm   4.23   \n",
       "1       82                                       Nirvana   4.90   \n",
       "2      145                          Fiery Glass Crusader   4.58   \n",
       "3      108     Extraction, Quickblade Of Trembling Hands   3.53   \n",
       "4       19                 Pursuit, Cudgel of Necromancy   1.02   \n",
       "\n",
       "   Total Purchases  Total Purchase Value  \n",
       "0               12                 50.76  \n",
       "1                9                 44.10  \n",
       "2                9                 41.22  \n",
       "3                9                 31.77  \n",
       "4                8                  8.16  "
      ]
     },
     "execution_count": 42,
     "metadata": {},
     "output_type": "execute_result"
    }
   ],
   "source": [
    "sorted_items=sorted_items.sort_values(by='Total Purchase Value',ascending=False).reset_index()\n",
    "sorted_items = sorted_items.drop(columns=['index'])\n",
    "sorted_items.head()"
   ]
  },
  {
   "cell_type": "code",
   "execution_count": null,
   "metadata": {},
   "outputs": [],
   "source": []
  }
 ],
 "metadata": {
  "anaconda-cloud": {},
  "kernel_info": {
   "name": "python3"
  },
  "kernelspec": {
   "display_name": "Python 3",
   "language": "python",
   "name": "python3"
  },
  "language_info": {
   "codemirror_mode": {
    "name": "ipython",
    "version": 3
   },
   "file_extension": ".py",
   "mimetype": "text/x-python",
   "name": "python",
   "nbconvert_exporter": "python",
   "pygments_lexer": "ipython3",
   "version": "3.7.3"
  },
  "latex_envs": {
   "LaTeX_envs_menu_present": true,
   "autoclose": false,
   "autocomplete": true,
   "bibliofile": "biblio.bib",
   "cite_by": "apalike",
   "current_citInitial": 1,
   "eqLabelWithNumbers": true,
   "eqNumInitial": 1,
   "hotkeys": {
    "equation": "Ctrl-E",
    "itemize": "Ctrl-I"
   },
   "labels_anchors": false,
   "latex_user_defs": false,
   "report_style_numbering": false,
   "user_envs_cfg": false
  },
  "nteract": {
   "version": "0.2.0"
  }
 },
 "nbformat": 4,
 "nbformat_minor": 2
}
